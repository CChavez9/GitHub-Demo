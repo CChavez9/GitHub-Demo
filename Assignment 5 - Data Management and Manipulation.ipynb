{
 "cells": [
  {
   "cell_type": "markdown",
   "metadata": {},
   "source": [
    "# SCH-MGMT 697P Business Applications of Python\n",
    "### Cesilia Chavez\n",
    "### Assignment V: Data Management and Manipulation\n",
    "### Due: Wednesday 04-10 at 11:59pm\n",
    "Please complete these exercises to the best of your abilities. Please include code to invoke each of your functions to demonstrate the functionality. Write comments throughout your code to explain steps. If you run into a persistent error, please demonstrate your efforts to resolve it; search the web for the error, see if you can get closer to figuring it out. Document what you tried in order to fix the problem."
   ]
  },
  {
   "cell_type": "markdown",
   "metadata": {},
   "source": [
    "### Problem 1. Numpy Array Basics\n",
    "a.  Create an array with the following data, specify the data type as int\n",
    "```\n",
    "[[1,2,3,4,5],[6,7,8,9,10],[11,12,13,14,15],[16,17,18,19,20],[21,22,23,24,25]]\n",
    "```\n",
    "b.  Access the first and last entry of the array\n",
    "\n",
    "c.  Access the first row and the first column of the array\n",
    "\n",
    "d.  Find the mean and standard deviation of the second column"
   ]
  },
  {
   "cell_type": "code",
   "execution_count": 19,
   "metadata": {},
   "outputs": [
    {
     "name": "stdout",
     "output_type": "stream",
     "text": [
      "[[1, 2, 3, 4, 5], [6, 7, 8, 9, 10], [11, 12, 13, 14, 15], [16, 17, 18, 19, 20], [21, 22, 23, 24, 25]]\n",
      "<class 'list'>\n",
      "[[ 1  2  3  4  5]\n",
      " [ 6  7  8  9 10]\n",
      " [11 12 13 14 15]\n",
      " [16 17 18 19 20]\n",
      " [21 22 23 24 25]]\n",
      "<class 'numpy.ndarray'>\n",
      "1\n",
      "25\n",
      "[1 2 3 4 5]\n",
      "[ 1  6 11 16 21]\n",
      "12.0 7.07106781187\n"
     ]
    }
   ],
   "source": [
    "import numpy as np\n",
    "\n",
    "#a. Create an array with the following data, specify the data type as int\n",
    "x=[[1,2,3,4,5],[6,7,8,9,10],[11,12,13,14,15],[16,17,18,19,20],[21,22,23,24,25]]\n",
    "print(x)\n",
    "# checking orginal type\n",
    "print(type(x))\n",
    "#converting to int\n",
    "xy=np.array(x,int)\n",
    "print(xy)\n",
    "#checking that type is int array\n",
    "print(type(xy))\n",
    "\n",
    "#b. Access the first and last entry of the array\n",
    "print(xy[0,0]) # first entry\n",
    "print(xy[-1,-1]) #last entry\n",
    "\n",
    "#c. Access the first row and the first column of the array\n",
    "print(xy[0]) #first row\n",
    "print(xy[:,0]) #first column\n",
    "\n",
    "#d. Find the mean and standard deviation of the second column\n",
    "stats=xy[:,1]\n",
    "print(stats.mean(),stats.std())"
   ]
  },
  {
   "cell_type": "markdown",
   "metadata": {},
   "source": [
    "### Problem 2. Opperations with Numpy Arrays\n",
    "a. Slice off the outer edges of the array, that is, remove the first and last row and the first and last column.\n",
    "\n",
    "b. Use a numpy command to get the dimensions of the array\n",
    "\n",
    "c. Use another numpy command to get the number of items in the array\n",
    "\n",
    "d. Reshape the array into a  one dimensional array (1 x 25).\n",
    "\n",
    "e. Use selection to identify all even numbers in the array"
   ]
  },
  {
   "cell_type": "code",
   "execution_count": 32,
   "metadata": {},
   "outputs": [
    {
     "name": "stdout",
     "output_type": "stream",
     "text": [
      "(5, 5)\n",
      "25\n",
      "[[ 1  2  3  4  5  6  7  8  9 10 11 12 13 14 15 16 17 18 19 20 21 22 23 24\n",
      "  25]]\n",
      "[[0 1 0 1 0]\n",
      " [1 0 1 0 1]\n",
      " [0 1 0 1 0]\n",
      " [1 0 1 0 1]\n",
      " [0 1 0 1 0]]\n"
     ]
    }
   ],
   "source": [
    "#a. Slice off the outer edges of the array, that is, remove the first and last row and the first and last column.\n",
    "xy[1:4,1:4]\n",
    "\n",
    "#b. Use a numpy command to get the dimensions of the array\n",
    "print(xy.shape)\n",
    "\n",
    "#c. Use another numpy command to get the number of items in the array\n",
    "print(xy.size)\n",
    "\n",
    "#d. Reshape the array into a one dimensional array (1 x 25).\n",
    "print(xy.reshape(1,25))\n",
    "\n",
    "#e. Use selection to identify all even numbers in the array\n",
    "print(np.where(xy%2==0,1,0))\n"
   ]
  },
  {
   "cell_type": "markdown",
   "metadata": {},
   "source": [
    "### Problem 3. Random Number Generation in Numpy\n",
    "a. Generate a 3x3 array of random integers in the range of 0-9\n",
    "\n",
    "b. Generate a 100 random floats in the range of 0-1\n",
    "\n",
    "c. Generate 1000 observations from a normal distribution with mean 64 and standard deviation 2. \n",
    "\n",
    "d. **Optional** use matplotlib to draw a histogram of the data from the above. "
   ]
  },
  {
   "cell_type": "code",
   "execution_count": 39,
   "metadata": {},
   "outputs": [
    {
     "data": {
      "text/plain": [
       "(array([  10.,   23.,   83.,  192.,  230.,  227.,  144.,   58.,   30.,    3.]),\n",
       " array([  18.92251407,   28.25277465,   37.58303523,   46.91329582,\n",
       "          56.2435564 ,   65.57381698,   74.90407757,   84.23433815,\n",
       "          93.56459873,  102.89485932,  112.2251199 ]),\n",
       " <a list of 10 Patch objects>)"
      ]
     },
     "execution_count": 39,
     "metadata": {},
     "output_type": "execute_result"
    },
    {
     "data": {
      "image/png": "[encoded data removed]",
      "text/plain": [
       "<matplotlib.figure.Figure at 0x1c2a3e03d68>"
      ]
     },
     "metadata": {},
     "output_type": "display_data"
    }
   ],
   "source": [
    "#a. Generate a 3x3 array of random integers in the range of 0-9\n",
    "np.random.randint(0,9,(3,3))\n",
    "\n",
    "#b. Generate a 100 random floats in the range of 0-1\n",
    "np.random.sample(100)\n",
    "\n",
    "#c. Generate 1000 observations from a normal distribution with mean 64 and standard deviation 2.\n",
    "#specifying mean and standard deviation\n",
    "mean=64\n",
    "sd=15\n",
    "plot=mean+sd*np.random.randn(1000)\n",
    "\n",
    "#d. Optional use matplotlib to draw a histogram of the data from the above.\n",
    "import matplotlib.pyplot as plt\n",
    "%matplotlib inline\n",
    "plt.hist(plot)"
   ]
  },
  {
   "cell_type": "markdown",
   "metadata": {},
   "source": [
    "### Problem 4. The datetime library (with pandas)\n",
    "You'll have to do some googling ...\n",
    "\n",
    "a. create a variable that stores the exact time Trump was elected president, to the nearest minute.  The program will default to the current time zone. \n",
    "\n",
    "b. create a variable to store the exact time now.\n",
    "\n",
    "c.  Use the date_range() function in pandas to create a time stamp for each day between the times you found in parts a and b. Notice or find the length of this object with len()"
   ]
  },
  {
   "cell_type": "code",
   "execution_count": 5,
   "metadata": {},
   "outputs": [
    {
     "name": "stdout",
     "output_type": "stream",
     "text": [
      "2016-11-09 02:30:00\n",
      "2019-04-11 17:13:08.387455\n",
      "DatetimeIndex(['2016-11-09 02:30:00', '2016-11-10 02:30:00',\n",
      "               '2016-11-11 02:30:00', '2016-11-12 02:30:00',\n",
      "               '2016-11-13 02:30:00', '2016-11-14 02:30:00',\n",
      "               '2016-11-15 02:30:00', '2016-11-16 02:30:00',\n",
      "               '2016-11-17 02:30:00', '2016-11-18 02:30:00',\n",
      "               ...\n",
      "               '2019-04-02 02:30:00', '2019-04-03 02:30:00',\n",
      "               '2019-04-04 02:30:00', '2019-04-05 02:30:00',\n",
      "               '2019-04-06 02:30:00', '2019-04-07 02:30:00',\n",
      "               '2019-04-08 02:30:00', '2019-04-09 02:30:00',\n",
      "               '2019-04-10 02:30:00', '2019-04-11 02:30:00'],\n",
      "              dtype='datetime64[ns]', length=884, freq='D')\n",
      "884\n"
     ]
    }
   ],
   "source": [
    "import datetime\n",
    "from datetime import datetime\n",
    "import pandas as pd\n",
    "\n",
    "#a. create a variable that stores the exact time Trump was elected president, to the nearest minute. The program will default to the current time zone.\n",
    "# output is year, month, day, hour, minutes\n",
    "trump=datetime(2016,11,9,2,30)\n",
    "print(trump)  \n",
    "\n",
    "#b. create a variable to store the exact time now.\n",
    "now = datetime.now()\n",
    "print(now)\n",
    "\n",
    "#c. Use the date_range() function in pandas to create a time stamp for each day between the times you found in parts a and b. Notice or find the length of this object with len()\n",
    "print(pd.date_range(trump,now))\n",
    "\n",
    "print(len(pd.date_range(trump,now)))\n"
   ]
  },
  {
   "cell_type": "markdown",
   "metadata": {},
   "source": [
    "For the following problems, make sure you have the appropriate libraries installed and imported.  If you have not installed pandas datareader on your machine, you will need to do that first.  The html5lib 1.0b8 is also helpful. "
   ]
  },
  {
   "cell_type": "code",
   "execution_count": 7,
   "metadata": {},
   "outputs": [
    {
     "name": "stdout",
     "output_type": "stream",
     "text": [
      "Requirement already satisfied: pandas-datareader in c:\\users\\cesil\\anaconda3\\lib\\site-packages\n",
      "Requirement already satisfied: lxml in c:\\users\\cesil\\anaconda3\\lib\\site-packages (from pandas-datareader)\n",
      "Requirement already satisfied: pandas>=0.19.2 in c:\\users\\cesil\\anaconda3\\lib\\site-packages (from pandas-datareader)\n",
      "Requirement already satisfied: wrapt in c:\\users\\cesil\\anaconda3\\lib\\site-packages (from pandas-datareader)\n",
      "Requirement already satisfied: requests>=2.3.0 in c:\\users\\cesil\\anaconda3\\lib\\site-packages (from pandas-datareader)\n",
      "Requirement already satisfied: python-dateutil>=2 in c:\\users\\cesil\\anaconda3\\lib\\site-packages (from pandas>=0.19.2->pandas-datareader)\n",
      "Requirement already satisfied: pytz>=2011k in c:\\users\\cesil\\anaconda3\\lib\\site-packages (from pandas>=0.19.2->pandas-datareader)\n",
      "Requirement already satisfied: numpy>=1.7.0 in c:\\users\\cesil\\anaconda3\\lib\\site-packages (from pandas>=0.19.2->pandas-datareader)\n",
      "Requirement already satisfied: chardet<3.1.0,>=3.0.2 in c:\\users\\cesil\\anaconda3\\lib\\site-packages (from requests>=2.3.0->pandas-datareader)\n",
      "Requirement already satisfied: idna<2.7,>=2.5 in c:\\users\\cesil\\anaconda3\\lib\\site-packages (from requests>=2.3.0->pandas-datareader)\n",
      "Requirement already satisfied: urllib3<1.23,>=1.21.1 in c:\\users\\cesil\\anaconda3\\lib\\site-packages (from requests>=2.3.0->pandas-datareader)\n",
      "Requirement already satisfied: certifi>=2017.4.17 in c:\\users\\cesil\\anaconda3\\lib\\site-packages (from requests>=2.3.0->pandas-datareader)\n",
      "Requirement already satisfied: six>=1.5 in c:\\users\\cesil\\anaconda3\\lib\\site-packages (from python-dateutil>=2->pandas>=0.19.2->pandas-datareader)\n"
     ]
    },
    {
     "name": "stderr",
     "output_type": "stream",
     "text": [
      "You are using pip version 9.0.1, however version 19.0.3 is available.\n",
      "You should consider upgrading via the 'python -m pip install --upgrade pip' command.\n",
      "Exception:\n",
      "Traceback (most recent call last):\n",
      "  File \"C:\\Users\\cesil\\Anaconda3\\lib\\site-packages\\pip\\basecommand.py\", line 215, in main\n",
      "    status = self.run(options, args)\n",
      "  File \"C:\\Users\\cesil\\Anaconda3\\lib\\site-packages\\pip\\commands\\install.py\", line 335, in run\n",
      "    wb.build(autobuilding=True)\n",
      "  File \"C:\\Users\\cesil\\Anaconda3\\lib\\site-packages\\pip\\wheel.py\", line 749, in build\n",
      "    self.requirement_set.prepare_files(self.finder)\n",
      "  File \"C:\\Users\\cesil\\Anaconda3\\lib\\site-packages\\pip\\req\\req_set.py\", line 380, in prepare_files\n",
      "    ignore_dependencies=self.ignore_dependencies))\n",
      "  File \"C:\\Users\\cesil\\Anaconda3\\lib\\site-packages\\pip\\req\\req_set.py\", line 487, in _prepare_file\n",
      "    req_to_install, finder)\n",
      "  File \"C:\\Users\\cesil\\Anaconda3\\lib\\site-packages\\pip\\req\\req_set.py\", line 428, in _check_skip_installed\n",
      "    req_to_install, upgrade_allowed)\n",
      "  File \"C:\\Users\\cesil\\Anaconda3\\lib\\site-packages\\pip\\index.py\", line 465, in find_requirement\n",
      "    all_candidates = self.find_all_candidates(req.name)\n",
      "  File \"C:\\Users\\cesil\\Anaconda3\\lib\\site-packages\\pip\\index.py\", line 423, in find_all_candidates\n",
      "    for page in self._get_pages(url_locations, project_name):\n",
      "  File \"C:\\Users\\cesil\\Anaconda3\\lib\\site-packages\\pip\\index.py\", line 568, in _get_pages\n",
      "    page = self._get_page(location)\n",
      "  File \"C:\\Users\\cesil\\Anaconda3\\lib\\site-packages\\pip\\index.py\", line 683, in _get_page\n",
      "    return HTMLPage.get_page(link, session=self.session)\n",
      "  File \"C:\\Users\\cesil\\Anaconda3\\lib\\site-packages\\pip\\index.py\", line 811, in get_page\n",
      "    inst = cls(resp.content, resp.url, resp.headers)\n",
      "  File \"C:\\Users\\cesil\\Anaconda3\\lib\\site-packages\\pip\\index.py\", line 731, in __init__\n",
      "    namespaceHTMLElements=False,\n",
      "TypeError: parse() got an unexpected keyword argument 'transport_encoding'\n",
      "You are using pip version 9.0.1, however version 19.0.3 is available.\n",
      "You should consider upgrading via the 'python -m pip install --upgrade pip' command.\n"
     ]
    }
   ],
   "source": [
    "# installing dependencies for pandas\n",
    "# this only has to be run once on your device, you can comment it out thereafter\n",
    "#!pip install pandas-datareader\n",
    "#!pip install --upgrade html5lib==1.0b8"
   ]
  },
  {
   "cell_type": "markdown",
   "metadata": {},
   "source": [
    "Imports for remaining problems "
   ]
  },
  {
   "cell_type": "code",
   "execution_count": 43,
   "metadata": {
    "collapsed": true
   },
   "outputs": [],
   "source": [
    "import pandas as pd #pandas library\n",
    "from pandas_datareader import data #data readers (google, html, etc.)\n",
    "#The following line ensures that graphs are rendered in the notebook\n",
    "%matplotlib inline \n",
    "import numpy as np\n",
    "import matplotlib.pyplot as plt #Plotting library\n",
    "import datetime #datetime for timeseries support"
   ]
  },
  {
   "cell_type": "markdown",
   "metadata": {},
   "source": [
    "### Problem 5. Pandas Dataframe Basics\n",
    "a. Create a dataframe using the following customer data and column names.  Make sure the 'id' is set as the row index.  \n",
    "\n",
    "b. Print the two last columns, order_total and time.  \n",
    "\n",
    "c. Find the mean of the order_total column\n",
    "\n",
    "d. Print the second row of the dataframe  "
   ]
  },
  {
   "cell_type": "code",
   "execution_count": 62,
   "metadata": {},
   "outputs": [
    {
     "name": "stdout",
     "output_type": "stream",
     "text": [
      "1935542629432\n",
      "      id  last_order  order_total  time\n",
      "0  57640  2018-02-13       299.53    10\n",
      "1  52862  2018-04-16        95.54    33\n",
      "2  73637  2018-11-06       307.83    68\n",
      "3  80392  2018-12-03       339.34     7\n",
      "4  18811  2018-12-11       375.60    56\n",
      "       order_total  time\n",
      "id                      \n",
      "57640       299.53    10\n",
      "52862        95.54    33\n",
      "73637       307.83    68\n",
      "80392       339.34     7\n",
      "18811       375.60    56\n",
      "283.56800000000004\n",
      "last_order     2018-04-16\n",
      "order_total         95.54\n",
      "time                   33\n",
      "Name: 52862, dtype: object\n"
     ]
    }
   ],
   "source": [
    "data=[['57640','2018-02-13', 299.53,10],['52862','2018-04-16', 95.54,33],['73637','2018-11-06',307.83,68],['80392','2018-12-03',339.34,7],['18811','2018-12-11',375.60,56]]\n",
    "col_names=['id','last_order','order_total','time']\n",
    "\n",
    "\n",
    "#a. Create a dataframe using the following customer data and column names. Make sure the 'id' is set as the row index.\n",
    "df=pd.DataFrame(data,columns=col_names)\n",
    "print(id(df))\n",
    "print(df)\n",
    "df.set_index('id',inplace=True)\n",
    "\n",
    "#b. Print the two last columns, order_total and time.\n",
    "print(df[['order_total','time']])\n",
    "\n",
    "#c. Find the mean of the order_total column\n",
    "print(df['order_total'].astype(float).mean())\n",
    "\n",
    "\n",
    "#d. Print the second row of the dataframe\n",
    "print(df.iloc[1])\n",
    "\n",
    "\n",
    "\n"
   ]
  },
  {
   "cell_type": "markdown",
   "metadata": {},
   "source": [
    "### 6. Operations with Pandas Dataframes\n",
    "a.  Use the following data to make a pandas dataframe. \n",
    "\n",
    "b.  Change all of the temperatures from Fahrenheit to Celsius using the formula (degrees F - 32) x 5/9=degrees C\n"
   ]
  },
  {
   "cell_type": "code",
   "execution_count": 22,
   "metadata": {},
   "outputs": [
    {
     "name": "stdout",
     "output_type": "stream",
     "text": [
      "   humidity  temperature  wind\n",
      "0        20           78     7\n",
      "1        50           61    10\n",
      "2       100           81     5\n",
      "3        90           62    15\n",
      "4        30           84    19\n",
      "5         0           66    28\n",
      "6         0           87    12\n",
      "7         0           68    14\n",
      "8         0           86     4\n",
      "9        60           68     0\n",
      "   humidity  temperature  wind    celsius\n",
      "0        20           78     7  25.555556\n",
      "1        50           61    10  16.111111\n",
      "2       100           81     5  27.222222\n",
      "3        90           62    15  16.666667\n",
      "4        30           84    19  28.888889\n",
      "5         0           66    28  18.888889\n",
      "6         0           87    12  30.555556\n",
      "7         0           68    14  20.000000\n",
      "8         0           86     4  30.000000\n",
      "9        60           68     0  20.000000\n"
     ]
    }
   ],
   "source": [
    "import pandas as pd\n",
    "\n",
    "Blacksburg_Forecast = [ { 'humidity' :  20, 'temperature' : 78, 'wind' :  7} ,\n",
    "                        { 'humidity' :  50, 'temperature' : 61, 'wind' : 10} ,\n",
    "                        { 'humidity' : 100, 'temperature' : 81, 'wind' :  5} ,\n",
    "                        { 'humidity' :  90, 'temperature' : 62, 'wind' : 15} ,\n",
    "                        { 'humidity' :  30, 'temperature' : 84, 'wind' : 19} ,\n",
    "                        { 'humidity' :   0, 'temperature' : 66, 'wind' : 28} ,\n",
    "                        { 'humidity' :   0, 'temperature' : 87, 'wind' : 12} ,\n",
    "                        { 'humidity' :   0, 'temperature' : 68, 'wind' : 14} ,\n",
    "                        { 'humidity' :   0, 'temperature' : 86, 'wind' :  4} ,\n",
    "                        { 'humidity' :  60, 'temperature' : 68, 'wind' :  0}\n",
    "                       ]\n",
    "\n",
    "#a. Use the following data to make a pandas dataframe.\n",
    "\n",
    "bf = pd.DataFrame(Blacksburg_Forecast)\n",
    "print(bf)\n",
    "\n",
    "#b. Change all of the temperatures from Fahrenheit to Celsius using the formula (degrees F - 32) x 5/9=degrees C\n",
    "\n",
    "bf['celsius']=(bf['temperature']-32)*5/9\n",
    "\n",
    "print(bf)"
   ]
  },
  {
   "cell_type": "markdown",
   "metadata": {},
   "source": [
    "### 7.  Data Extraction with Pandas Datareader\n",
    "Use the IEX data source for this problem.  You can read more about remote access with datareader [here](https://pandas-datareader.readthedocs.io/en/latest/).  \n",
    "\n",
    "a.  Create a pandas dataframe for a stock of your choice over a period of one year.  Follow the examples from the last part of lesson 5.2.  Print the first four lines of the table.\n",
    "\n",
    "b.  Find the mean of the 'high' column and the maximum of the 'open' column.  Make sure to import the math library. \n"
   ]
  },
  {
   "cell_type": "code",
   "execution_count": 17,
   "metadata": {},
   "outputs": [
    {
     "name": "stdout",
     "output_type": "stream",
     "text": [
      "               open     high      low    close   volume\n",
      "date                                                   \n",
      "2018-04-12  70.7238  71.1686  69.7325  70.0468  3020221\n",
      "2018-04-13  70.3853  70.3901  68.7993  69.1668  3824424\n",
      "2018-04-16  69.5729  70.0468  69.1184  69.6310  4837562\n",
      "2018-04-17  70.4143  70.5400  70.0081  70.0662  3066528\n",
      "76.56213067729081\n",
      "87.8855\n"
     ]
    }
   ],
   "source": [
    "from pandas_datareader import data\n",
    "from datetime import datetime\n",
    "import math\n",
    "\n",
    "#a. Create a pandas dataframe for stock of your choice over a period of one year. Follow the examples fromt he last part of lesson 5.2. Print the first four lines of the table.\n",
    "# Set some variables\n",
    "symbol = 'TGT'\n",
    "data_source = 'iex'\n",
    "start=datetime(2018, 4, 12)\n",
    "end=datetime(2019, 4,11)\n",
    "\n",
    "tgt=data.DataReader(symbol, data_source, start, end)\n",
    "# shows only the first four lines\n",
    "print(tgt.head(4))\n",
    "\n",
    "#b. find the mean of the 'high' column and the maximum of the 'open' column. Make sure to import the math library.\n",
    "print(tgt['high'].astype(float).mean())\n",
    "print(tgt['open'].astype(float).max())\n",
    "\n"
   ]
  },
  {
   "cell_type": "markdown",
   "metadata": {},
   "source": [
    "### 8.  Optional Challenge - Data Extraction and Manipulation\n",
    "See if you can figure out how to extract data from the star wars api:  'https://swapi.co/api/'. You can customize your data by adding to the url e.g. 'https://swapi.co/api/planets/' to get data about planets.  Extract the data and turn it into a tidy pandas dataframe.  You will need the requests library and probably the json library, perhaps others.  Have fun!"
   ]
  },
  {
   "cell_type": "code",
   "execution_count": null,
   "metadata": {
    "collapsed": true
   },
   "outputs": [],
   "source": []
  }
 ],
 "metadata": {
  "kernelspec": {
   "display_name": "Python 3",
   "language": "python",
   "name": "python3"
  },
  "language_info": {
   "codemirror_mode": {
    "name": "ipython",
    "version": 3
   },
   "file_extension": ".py",
   "mimetype": "text/x-python",
   "name": "python",
   "nbconvert_exporter": "python",
   "pygments_lexer": "ipython3",
   "version": "3.6.3"
  }
 },
 "nbformat": 4,
 "nbformat_minor": 2
}
